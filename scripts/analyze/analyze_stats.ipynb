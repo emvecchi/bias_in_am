{
 "cells": [
  {
   "cell_type": "code",
   "execution_count": 2,
   "metadata": {},
   "outputs": [],
   "source": [
    "import pandas\n",
    "\n",
    "orig_files = [\"../../original-data/all/heldout_period_data.jsonlist.bz2\",\n",
    "              \"../../original-data/all/train_period_data.jsonlist.bz2\"]\n",
    "\n",
    "data_file = \"../../data/cmv.annotations.topics.jsonlist\""
   ]
  },
  {
   "attachments": {},
   "cell_type": "markdown",
   "metadata": {},
   "source": [
    "# Data stats"
   ]
  },
  {
   "cell_type": "code",
   "execution_count": 3,
   "metadata": {},
   "outputs": [
    {
     "name": "stdout",
     "output_type": "stream",
     "text": [
      "Original data: Trees: 20626, Replies: 1258035, Nodes: 1278661, OPs: 13708, Participants: 78652\n",
      "Preprocessed data: Trees: 20407, Replies: 1254160, Nodes: 1274567, OPs: 13702, Participants: 78589\n"
     ]
    }
   ],
   "source": [
    "import json, bz2\n",
    "\n",
    "def new_stats():\n",
    "    return { \"trees\" : set([]), \"replies\" : set([]), \"ops\" : set([]), \"participants\" : set([])}\n",
    "\n",
    "def calc_stats(file, stats):\n",
    "    for line in file:\n",
    "        cmv = json.loads(line)\n",
    "\n",
    "        stats[\"trees\"].add(cmv[\"id\"])\n",
    "        stats[\"participants\"].add(cmv[\"author\"])\n",
    "        stats[\"ops\"].add(cmv[\"author\"])\n",
    "        for comment in cmv[\"comments\"]:\n",
    "            if \"author\" not in comment:\n",
    "                continue\n",
    "\n",
    "            stats[\"replies\"].add(comment[\"id\"])\n",
    "            stats[\"participants\"].add(comment[\"author\"])\n",
    "\n",
    "def print_stats(stats):\n",
    "    return \"Trees: %i, Replies: %i, Nodes: %i, OPs: %i, Participants: %i\" % (len(stats[\"trees\"]),\n",
    "                                                                            len(stats[\"replies\"]), \n",
    "                                                                            len(stats[\"trees\"]) + len(stats[\"replies\"]),\n",
    "                                                                            len(stats[\"ops\"]),\n",
    "                                                                            len(stats[\"participants\"]))\n",
    "\n",
    "orig_stats = new_stats()\n",
    "for filename in orig_files:\n",
    "    calc_stats(bz2.open(filename, 'rb'), orig_stats)\n",
    "\n",
    "data_stats = new_stats()\n",
    "calc_stats(open(data_file, \"r\"), data_stats)\n",
    "\n",
    "print(\"Original data:\", print_stats(orig_stats))\n",
    "print(\"Preprocessed data:\", print_stats(data_stats))"
   ]
  },
  {
   "attachments": {},
   "cell_type": "markdown",
   "metadata": {},
   "source": [
    "# Topic stats"
   ]
  },
  {
   "cell_type": "code",
   "execution_count": 4,
   "metadata": {},
   "outputs": [
    {
     "data": {
      "text/plain": [
       "[('-1_the_and_to_of', 6880),\n",
       " ('0_music_song_songs_listen', 327),\n",
       " ('1_black_white_racism_racist', 233),\n",
       " ('2_gun_guns_firearms_weapons', 231),\n",
       " ('3_abortion_fetus_prolife_abortions', 230),\n",
       " ('4_college_degree_education_students', 220),\n",
       " ('5_gender_transgender_trans_sex', 213),\n",
       " ('6_meat_animals_eating_eat', 200),\n",
       " ('7_climate_warming_global_change', 184),\n",
       " ('8_nsa_privacy_information_data', 167)]"
      ]
     },
     "execution_count": 4,
     "metadata": {},
     "output_type": "execute_result"
    }
   ],
   "source": [
    "from collections import Counter\n",
    "\n",
    "topics_file = \"../../annotations/topics.info\"\n",
    "topics = { line.split(\":\")[0] : line.split(\":\")[1].strip() for line in open(topics_file, \"r\") }\n",
    "\n",
    "post_topics = [ ]\n",
    "\n",
    "for line in open(data_file, \"r\"):\n",
    "        cmv = json.loads(line)\n",
    "\n",
    "        if \"topic\" in cmv:\n",
    "            post_topics.append(topics[cmv[\"topic\"]])\n",
    "\n",
    "topics_freq = Counter(post_topics)\n",
    "topics_freq.most_common(10)"
   ]
  },
  {
   "attachments": {},
   "cell_type": "markdown",
   "metadata": {},
   "source": [
    "# Gender stats"
   ]
  },
  {
   "cell_type": "code",
   "execution_count": 8,
   "metadata": {},
   "outputs": [],
   "source": [
    "def calc_gender_stats(file):\n",
    "    explicit = { \"M_topic\" : [ ], \"F_topic\" : [ ], \"N_topic\" : [ ], \n",
    "                 \"M_reply_topic\" : [ ], \"F_reply_topic\" : [ ], \"N_reply_topic\" : [ ],\n",
    "                 \"M_threads\" : [ ], \"F_threads\" : [ ], \"N_threads\" : [ ],\n",
    "                 \"M_auth\" : [ ], \"F_auth\" : [ ], \"N_auth\" : [ ],\n",
    "                 \"M_post\" : [ ], \"F_post\" : [ ], \"N_post\" : [ ] }\n",
    "    implicit = { \"M_topic\" : [ ], \"F_topic\" : [ ], \"N_topic\" : [ ], \n",
    "                 \"M_reply_topic\" : [ ], \"F_reply_topic\" : [ ], \"N_reply_topic\" : [ ], \n",
    "                 \"M_threads\" : [ ], \"F_threads\" : [ ], \"N_threads\" : [ ], \n",
    "                 \"M_auth\" : [ ], \"F_auth\" : [ ], \"N_auth\" : [ ],\n",
    "                 \"M_post\" : [ ], \"F_post\" : [ ], \"N_post\" : [ ]}\n",
    "\n",
    "    for line in file:\n",
    "        cmv = json.loads(line)\n",
    "    \n",
    "        exp = cmv[\"explicit_gender\"]\n",
    "        if exp != \"UNK\":\n",
    "            explicit[exp + \"_post\"].append(cmv[\"id\"])\n",
    "            explicit[exp + \"_topic\"].append(cmv[\"topic\"])\n",
    "            explicit[exp + \"_auth\"].append(cmv[\"author\"])\n",
    "            explicit[exp + \"_threads\"].append(cmv[\"id\"])\n",
    "\n",
    "        impl = cmv[\"author_gender\"]\n",
    "        if impl != \"UNK\":\n",
    "            implicit[impl + \"_post\"].append(cmv[\"id\"])\n",
    "            implicit[impl + \"_topic\"].append(cmv[\"topic\"])\n",
    "            implicit[impl + \"_auth\"].append(cmv[\"author\"])\n",
    "            implicit[impl + \"_threads\"].append(cmv[\"id\"])\n",
    "\n",
    "        for comment in cmv[\"comments\"]:\n",
    "            exp = comment[\"explicit_gender\"]\n",
    "            if exp != \"UNK\":\n",
    "                explicit[exp + \"_reply_topic\"].append(cmv[\"topic\"])\n",
    "                explicit[exp + \"_auth\"].append(comment[\"author\"])\n",
    "                explicit[exp + \"_threads\"].append(cmv[\"id\"])\n",
    "\n",
    "            impl = comment[\"author_gender\"]\n",
    "            if impl != \"UNK\":\n",
    "                implicit[impl + \"_reply_topic\"].append(cmv[\"topic\"])\n",
    "                implicit[impl + \"_auth\"].append(comment[\"author\"])\n",
    "                implicit[impl + \"_threads\"].append(cmv[\"id\"])\n",
    "\n",
    "    return explicit, implicit\n",
    "\n",
    "explicit_stats, implicit_stats = calc_gender_stats(open(data_file, \"r\"))"
   ]
  },
  {
   "cell_type": "code",
   "execution_count": 19,
   "metadata": {},
   "outputs": [
    {
     "name": "stdout",
     "output_type": "stream",
     "text": [
      "##############\n",
      "## Explicit mentions:\n",
      "##############\n",
      "## Frequences:\n",
      "Posts -- Men: 299 Women: 89 Other: 8\n",
      "Posts -- Men: ['5', '112', '-1', '5', '187', '14', '-1', '-1']\n",
      "Replies -- Men: 1953 Women: 961 Other: 321\n",
      "Discussions --  Men: 1357 Women: 693 Other: 175\n",
      "Authors --  Men: 1640 Women: 674 Other: 158\n",
      "299 89 8 41\n",
      "All posts: 91\n",
      "All replies: 168\n",
      "All threads: 1812\n",
      "All authors: 2456\n",
      "M+F posts: 90\n",
      "M+F replies: 168\n",
      "M+F threads: 1741\n",
      "M+F authors: 2312\n",
      "##############\n",
      "## Implicit mentions:\n",
      "##############\n",
      "## Frequences:\n",
      "Posts -- Men: 2253 Women: 396 Other: 32\n",
      "Posts -- Men: ['138', '18', '-1', '5', '44', '101', '-1', '-1', '112', '47', '-1', '84', '-1', '160', '-1', '5', '-1', '5', '23', '187', '212', '19', '18', '-1', '3', '-1', '-1', '-1', '12', '94', '-1', '-1']\n",
      "Replies -- Men: 227261 Women: 53042 Other: 9433\n",
      "Discussions --  Men: 18515 Women: 10119 Other: 3220\n",
      "Authors --  Men: 1634 Women: 664 Other: 144\n",
      "2253 396 32 126\n",
      "All posts: 248\n",
      "All replies: 264\n",
      "All threads: 19081\n",
      "All authors: 2442\n",
      "M+F posts: 248\n",
      "M+F replies: 264\n",
      "M+F threads: 19016\n",
      "M+F authors: 2298\n"
     ]
    },
    {
     "name": "stderr",
     "output_type": "stream",
     "text": [
      "<>:8: SyntaxWarning: invalid escape sequence '\\_'\n",
      "<>:8: SyntaxWarning: invalid escape sequence '\\_'\n",
      "/tmp/ipykernel_2121118/3139697359.py:8: SyntaxWarning: invalid escape sequence '\\_'\n",
      "  print(\"\\_\".join(topics[t].split(\"_\")[1:]), \" & \", f)\n"
     ]
    }
   ],
   "source": [
    "from collections import Counter\n",
    "\n",
    "def print_topics(c, how_many=10):\n",
    "    for t, f in dict(c.most_common(how_many)).items():\n",
    "        if t == \"-1\":\n",
    "            continue\n",
    "        \n",
    "        print(\"\\_\".join(topics[t].split(\"_\")[1:]), \" & \", f)\n",
    "\n",
    "def print_stats(s):\n",
    "    print(\"## Frequences:\")\n",
    "    \n",
    "    print(\"Posts -- Men:\", len(s[\"M_post\"]), \"Women:\", len(s[\"F_post\"]), \"Other:\", len(s[\"N_post\"]))\n",
    "    print(\"Replies -- Men:\", len(s[\"M_reply_topic\"]), \"Women:\", len(s[\"F_reply_topic\"]), \"Other:\", len(s[\"N_reply_topic\"]))\n",
    "    print(\"Discussions --  Men:\", len(set(s[\"M_threads\"])), \"Women:\", len(set(s[\"F_threads\"])), \"Other:\", len(set(s[\"N_threads\"])))\n",
    "    print(\"Authors --  Men:\", len(set(s[\"M_auth\"])), \"Women:\", len(set(s[\"F_auth\"])), \"Other:\", len(set(s[\"N_auth\"])))\n",
    "    \n",
    "    print(\"All posts:\", len(set(s[\"M_post\"] + s[\"F_post\"] + s[\"N_post\"])))\n",
    "    print(\"All replies:\", len(set(s[\"reply_M\"] + s[\"reply_F\"] + s[\"reply_N\"])))\n",
    "    print(\"All threads:\", len(set(s[\"M_threads\"] + s[\"F_threads\"] + s[\"N_threads\"])))  \n",
    "    print(\"All authors:\", len(set(s[\"M_auth\"] + s[\"F_auth\"] + s[\"N_auth\"])))  \n",
    "\n",
    "\n",
    "    print(\"M+F posts:\", len(set(s[\"M\"] + s[\"F\"])))\n",
    "    print(\"M+F replies:\", len(set(s[\"reply_M\"] + s[\"reply_F\"])))\n",
    "    print(\"M+F threads:\", len(set(s[\"M_threads\"] + s[\"F_threads\"])))  \n",
    "    print(\"M+F authors:\", len(set(s[\"M_auth\"] + s[\"F_auth\"])))\n",
    "\n",
    "print(\"##############\")\n",
    "print(\"## Explicit mentions:\")\n",
    "print(\"##############\")\n",
    "print_stats(explicit_stats)\n",
    "\n",
    "print(\"##############\")\n",
    "print(\"## Implicit mentions:\")\n",
    "print(\"##############\")\n",
    "print_stats(implicit_stats)"
   ]
  },
  {
   "attachments": {},
   "cell_type": "markdown",
   "metadata": {},
   "source": [
    "# Plot gender of authors in posts"
   ]
  },
  {
   "cell_type": "code",
   "execution_count": null,
   "metadata": {},
   "outputs": [
    {
     "name": "stdout",
     "output_type": "stream",
     "text": [
      "Two zeros (unknown words?): 256\n"
     ]
    },
    {
     "data": {
      "image/png": "[encoded data removed]",
      "text/plain": [
       "<Figure size 640x480 with 1 Axes>"
      ]
     },
     "metadata": {},
     "output_type": "display_data"
    }
   ],
   "source": [
    "interesting_topics = { }\n",
    "\n",
    "def get_interesting_topics(stats):\n",
    "    M_topics = Counter(stats[\"M\"]) + Counter(stats[\"reply_M\"])\n",
    "    W_topics = Counter(stats[\"F\"]) + Counter(stats[\"reply_F\"])\n",
    "    O_topics = Counter(stats[\"N\"]) + Counter(stats[\"reply_N\"])\n",
    "\n",
    "    result = { }\n",
    "    for (top, freq) in M_topics.most_common(500) + W_topics.most_common(500) + O_topics.most_common(500):\n",
    "        if top == \"-1\":\n",
    "            continue\n",
    "        \n",
    "        freq = M_topics[top] + W_topics[top] + O_topics[top]\n",
    "        result[top] = freq\n",
    "\n",
    "    result = [ (freq, top) for (top, freq) in result.items() ]\n",
    "    result.sort(reverse=True)\n",
    "    result = result[:10]\n",
    "    print(result)\n",
    "    return [ top for (_, top) in result ]\n",
    "     \n",
    "def reverse_stats(stats):\n",
    "    interesting_keys = { \"M\" : 0, \"F\" : 0, \"N\" : 0, \"reply_M\" : 0, \"reply_F\" : 0, \"reply_N\" : 0 }\n",
    "    result = { top : { \"M\" : 0, \"F\" : 0, \"N\" : 0, \"reply_M\" : 0, \"reply_F\" : 0, \"reply_N\" : 0 } for top in topics }\n",
    "    for key, tops in stats.items():\n",
    "        if key not in interesting_keys:\n",
    "            continue\n",
    "        \n",
    "        for top in tops:\n",
    "            result[top][key] += 1\n",
    "    return result\n",
    "\n",
    "tstats = reverse_stats(explicit_stats)\n",
    "interesting_topics = get_interesting_topics(explicit_stats)[:10]"
   ]
  },
  {
   "cell_type": "code",
   "execution_count": null,
   "metadata": {},
   "outputs": [
    {
     "name": "stderr",
     "output_type": "stream",
     "text": [
      "Some weights of the model checkpoint at distilbert-base-uncased were not used when initializing DistilBertModel: ['vocab_projector.weight', 'vocab_layer_norm.weight', 'vocab_layer_norm.bias', 'vocab_transform.bias', 'vocab_transform.weight', 'vocab_projector.bias']\n",
      "- This IS expected if you are initializing DistilBertModel from the checkpoint of a model trained on another task or with another architecture (e.g. initializing a BertForSequenceClassification model from a BertForPreTraining model).\n",
      "- This IS NOT expected if you are initializing DistilBertModel from the checkpoint of a model that you expect to be exactly identical (initializing a BertForSequenceClassification model from a BertForSequenceClassification model).\n"
     ]
    },
    {
     "name": "stdout",
     "output_type": "stream",
     "text": [
      "200 200 200\n"
     ]
    }
   ],
   "source": [
    "import matplotlib.pyplot as plt\n",
    "import numpy as np\n",
    "from matplotlib import rcParams\n",
    "\n",
    "fontsize=14\n",
    "labelpad=12\n",
    "\n",
    "def setFontSize():\n",
    "    rcParams.update({'text.usetex': False}) \n",
    "    rcParams.update({'font.size': fontsize})\n",
    "    rcParams.update({'legend.fontsize': fontsize})\n",
    "    rcParams.update({'axes.titlesize': fontsize})\n",
    "    rcParams.update({'axes.labelsize': fontsize})\n",
    "\n",
    "def setFigureSize():\n",
    "    fig_size = rcParams[\"figure.figsize\"]\n",
    "    fig_size[0] = 8\n",
    "    fig_size[1] = 3\n",
    "    rcParams[\"figure.figsize\"] = fig_size\n",
    "\n",
    "def nice_title(title):\n",
    "    parts = title.split(\"_\")[1:-1]\n",
    "    result = [ ]\n",
    "    for p in parts:\n",
    "        if p == \"circumcised\":\n",
    "            p = \"infant\"\n",
    "\n",
    "        result.append(p)\n",
    "    \n",
    "    return \", \".join(result).capitalize()\n",
    "\n",
    "# Sample data for three series\n",
    "categories = [ nice_title(topics[top]) for top in interesting_topics[::-1] ]\n",
    "men = [ tstats[top][\"M\"] + tstats[top][\"reply_M\"] for top in interesting_topics[::-1] ]\n",
    "women = [ tstats[top][\"F\"] + tstats[top][\"reply_F\"] for top in interesting_topics[::-1] ]\n",
    "other = [ tstats[top][\"N\"] + tstats[top][\"reply_N\"] for top in interesting_topics[::-1] ]\n",
    "\n",
    "print(men)\n",
    "print(women)\n",
    "print(other)\n",
    "\n",
    "setFontSize()\n",
    "setFigureSize()\n",
    "\n",
    "# Create an array for the y-axis positions\n",
    "y = np.arange(len(categories))\n",
    "\n",
    "# Create the stacked bar plot\n",
    "plt.barh(y, men, label='male', alpha=0.7)\n",
    "plt.barh(y, women, label='female', alpha=0.7, left=men)\n",
    "plt.barh(y, other, label='other', alpha=0.7, left=np.array(men) + np.array(women))\n",
    "\n",
    "# Add labels, title, and legend\n",
    "#plt.xlabel('Categories')\n",
    "plt.xlabel('Number of nodes (posts and replies)')\n",
    "cats = plt.yticks(y, categories)\n",
    "plt.legend()\n",
    "\n",
    "rcParams.update({'figure.autolayout': True})\n",
    "\n",
    "# Show the plot\n",
    "plt.show()"
   ]
  }
 ],
 "metadata": {
  "kernelspec": {
   "display_name": "Python 3",
   "language": "python",
   "name": "python3"
  },
  "language_info": {
   "codemirror_mode": {
    "name": "ipython",
    "version": 3
   },
   "file_extension": ".py",
   "mimetype": "text/x-python",
   "name": "python",
   "nbconvert_exporter": "python",
   "pygments_lexer": "ipython3",
   "version": "3.12.2"
  },
  "orig_nbformat": 4
 },
 "nbformat": 4,
 "nbformat_minor": 2
}
